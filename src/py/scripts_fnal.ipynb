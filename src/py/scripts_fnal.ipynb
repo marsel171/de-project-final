{
 "cells": [
  {
   "cell_type": "code",
   "execution_count": null,
   "id": "4b25a565",
   "metadata": {},
   "outputs": [],
   "source": [
    "# запускаю поставку данных в режиме реального времени\n",
    "!curl -X POST https://order-gen-service.sprint9.tgcloudenv.ru/project/register_kafka \\\n",
    "-H 'Content-Type: application/json; charset=utf-8' \\\n",
    "--data-binary @- << EOF\n",
    "{\n",
    "    \"student\": \"producer_consumer\",\n",
    "    \"kafka_connect\":{\n",
    "        \"host\": \"rc1a-hankn22hfdvk7pa3.mdb.yandexcloud.net\",\n",
    "        \"port\": 9091,\n",
    "        \"topic\": \"transaction-service-input\",\n",
    "        \"producer_name\": \"producer_consumer\",\n",
    "        \"producer_password\": \"Jees3Xei\"\n",
    "    }\n",
    "}\n",
    "EOF"
   ]
  },
  {
   "cell_type": "code",
   "execution_count": null,
   "id": "da8c6ba3",
   "metadata": {},
   "outputs": [],
   "source": [
    "# режим консьюмера - получаем сообщения в топик transaction-service-input\n",
    "!sudo docker run \\\n",
    "    -it \\\n",
    "    --name \"kcat\" \\\n",
    "    --network=host \\\n",
    "    --rm \\\n",
    "    -v \"/usr/local/share/ca-certificates/Yandex/YandexInternalRootCA.crt:/data/CA.pem\" \\\n",
    "    edenhill/kcat:1.7.1 -b rc1a-hankn22hfdvk7pa3.mdb.yandexcloud.net:9091 \\\n",
    "    -X security.protocol=SASL_SSL \\\n",
    "    -X sasl.mechanisms=SCRAM-SHA-512 \\\n",
    "    -X sasl.username=producer_consumer \\\n",
    "    -X sasl.password=\"Jees3Xei\" \\\n",
    "    -X ssl.ca.location=/data/CA.pem \\\n",
    "    -t transaction-service-input \\\n",
    "    -C \\\n",
    "    -o beginning"
   ]
  },
  {
   "cell_type": "code",
   "execution_count": null,
   "id": "2c0a44b4",
   "metadata": {},
   "outputs": [],
   "source": [
    "# изучаем данные из источника кафка\n",
    "{\n",
    "  \"object_id\": \"256409aa-b5cd-4425-ae1a-bb9c53913d07\",\n",
    "  \"object_type\": \"TRANSACTION\",\n",
    "  \"sent_dttm\": \"2022-10-01T08:34:19\",\n",
    "  \"payload\": {\n",
    "    \"operation_id\": \"256409aa-b5cd-4425-ae1a-bb9c53913d07\",\n",
    "    \"account_number_from\": 914810,\n",
    "    \"account_number_to\": 5735373,\n",
    "    \"currency_code\": 430,\n",
    "    \"country\": \"russia\",\n",
    "    \"status\": \"chargeback\",\n",
    "    \"transaction_type\": \"c2a_incoming\",\n",
    "    \"amount\": 1500000,\n",
    "    \"transaction_dt\": \"2022-10-01 08:34:19\"\n",
    "  }\n",
    "}"
   ]
  },
  {
   "cell_type": "markdown",
   "id": "77d97d0a",
   "metadata": {},
   "source": [
    "### Структура данных TRANSACTION:\n",
    "\n",
    "- operation_id — id транзакции;\n",
    "- account_number_from — внутренний бухгалтерский номер счёта транзакции ОТ КОГО;\n",
    "- account_number_to — внутренний бухгалтерский номер счёта транзакции К КОМУ;\n",
    "- currency_code — трёхзначный код валюты страны, из которой идёт транзакция;\n",
    "- country — страна-источник транзакции;\n",
    "- status — статус проведения транзакции: queued («транзакция в очереди на обработку сервисом»), in_progress («транзакция в обработке»), blocked («транзакция заблокирована сервисом»), done («транзакция выполнена успешно»), chargeback («пользователь осуществил возврат по транзакции»).\n",
    "- transaction_type — тип транзакции во внутреннем учёте: authorisation («авторизационная транзакция, подтверждающая наличие счёта пользователя»), sbp_incoming («входящий перевод по системе быстрых платежей»), sbp_outgoing («исходящий перевод по системе быстрых платежей»), transfer_incoming («входящий перевод по счёту»), transfer_outgoing («исходящий перевод по счёту»), c2b_partner_incoming («перевод от юридического лица»), c2b_partner_outgoing («перевод юридическому лицу»).\n",
    "- amount — целочисленная сумма транзакции в минимальной единице валюты страны (копейка, цент, куруш);\n",
    "- transaction_dt — дата и время исполнения транзакции до миллисекунд."
   ]
  },
  {
   "cell_type": "markdown",
   "id": "3ec94503",
   "metadata": {},
   "source": [
    "### Структура данных сurrencies:\n",
    "\n",
    "- date_update — дата обновления курса валют;\n",
    "- currency_code — трёхзначный код валюты транзакции;\n",
    "- currency_code_with — отношение другой валюты к валюте трёхзначного кода;\n",
    "- currency_code_div — значение отношения единицы одной валюты к единице валюты транзакции."
   ]
  },
  {
   "cell_type": "code",
   "execution_count": 15,
   "id": "a72266e5",
   "metadata": {
    "scrolled": true
   },
   "outputs": [
    {
     "ename": "ConnectionError",
     "evalue": "Severity: FATAL, Message: Invalid username or password, Sqlstate: 28000, Routine: auth_failed, File: /data/jenkins/workspace/RE-ReleaseBuilds/RE-Jackhammer/server/vertica/Basics/ClientAuthentication.cpp, Line: 1050, Error Code: 3781",
     "output_type": "error",
     "traceback": [
      "\u001b[0;31m---------------------------------------------------------------------------\u001b[0m",
      "\u001b[0;31mConnectionError\u001b[0m                           Traceback (most recent call last)",
      "\u001b[0;32m/tmp/ipykernel_22844/3941947479.py\u001b[0m in \u001b[0;36m<module>\u001b[0;34m\u001b[0m\n\u001b[1;32m     10\u001b[0m }\n\u001b[1;32m     11\u001b[0m \u001b[0;34m\u001b[0m\u001b[0m\n\u001b[0;32m---> 12\u001b[0;31m \u001b[0;32mwith\u001b[0m \u001b[0mvertica_python\u001b[0m\u001b[0;34m.\u001b[0m\u001b[0mconnect\u001b[0m\u001b[0;34m(\u001b[0m\u001b[0;34m**\u001b[0m\u001b[0mconn_info\u001b[0m\u001b[0;34m)\u001b[0m \u001b[0;32mas\u001b[0m \u001b[0mconn\u001b[0m\u001b[0;34m:\u001b[0m\u001b[0;34m\u001b[0m\u001b[0;34m\u001b[0m\u001b[0m\n\u001b[0m\u001b[1;32m     13\u001b[0m     \u001b[0mprint\u001b[0m\u001b[0;34m(\u001b[0m\u001b[0;34m'yo'\u001b[0m\u001b[0;34m)\u001b[0m\u001b[0;34m\u001b[0m\u001b[0;34m\u001b[0m\u001b[0m\n",
      "\u001b[0;32m~/anaconda3/lib/python3.9/site-packages/vertica_python/vertica/connection.py\u001b[0m in \u001b[0;36mconnect\u001b[0;34m(**kwargs)\u001b[0m\n\u001b[1;32m     89\u001b[0m     \u001b[0;31m# type: (Any) -> Connection\u001b[0m\u001b[0;34m\u001b[0m\u001b[0;34m\u001b[0m\u001b[0m\n\u001b[1;32m     90\u001b[0m     \u001b[0;34m\"\"\"Opens a new connection to a Vertica database.\"\"\"\u001b[0m\u001b[0;34m\u001b[0m\u001b[0;34m\u001b[0m\u001b[0m\n\u001b[0;32m---> 91\u001b[0;31m     \u001b[0;32mreturn\u001b[0m \u001b[0mConnection\u001b[0m\u001b[0;34m(\u001b[0m\u001b[0mkwargs\u001b[0m\u001b[0;34m)\u001b[0m\u001b[0;34m\u001b[0m\u001b[0;34m\u001b[0m\u001b[0m\n\u001b[0m\u001b[1;32m     92\u001b[0m \u001b[0;34m\u001b[0m\u001b[0m\n\u001b[1;32m     93\u001b[0m \u001b[0;34m\u001b[0m\u001b[0m\n",
      "\u001b[0;32m~/anaconda3/lib/python3.9/site-packages/vertica_python/vertica/connection.py\u001b[0m in \u001b[0;36m__init__\u001b[0;34m(self, options)\u001b[0m\n\u001b[1;32m    333\u001b[0m                      \u001b[0mself\u001b[0m\u001b[0;34m.\u001b[0m\u001b[0moptions\u001b[0m\u001b[0;34m[\u001b[0m\u001b[0;34m'user'\u001b[0m\u001b[0;34m]\u001b[0m\u001b[0;34m,\u001b[0m \u001b[0mself\u001b[0m\u001b[0;34m.\u001b[0m\u001b[0moptions\u001b[0m\u001b[0;34m[\u001b[0m\u001b[0;34m'database'\u001b[0m\u001b[0;34m]\u001b[0m\u001b[0;34m,\u001b[0m\u001b[0;34m\u001b[0m\u001b[0;34m\u001b[0m\u001b[0m\n\u001b[1;32m    334\u001b[0m                      self.options['host'], self.options['port']))\n\u001b[0;32m--> 335\u001b[0;31m         \u001b[0mself\u001b[0m\u001b[0;34m.\u001b[0m\u001b[0mstartup_connection\u001b[0m\u001b[0;34m(\u001b[0m\u001b[0;34m)\u001b[0m\u001b[0;34m\u001b[0m\u001b[0;34m\u001b[0m\u001b[0m\n\u001b[0m\u001b[1;32m    336\u001b[0m \u001b[0;34m\u001b[0m\u001b[0m\n\u001b[1;32m    337\u001b[0m         \u001b[0;31m# Complex types metadata is returned since protocol version 3.12\u001b[0m\u001b[0;34m\u001b[0m\u001b[0;34m\u001b[0m\u001b[0m\n",
      "\u001b[0;32m~/anaconda3/lib/python3.9/site-packages/vertica_python/vertica/connection.py\u001b[0m in \u001b[0;36mstartup_connection\u001b[0;34m(self)\u001b[0m\n\u001b[1;32m    849\u001b[0m             \u001b[0;32melif\u001b[0m \u001b[0misinstance\u001b[0m\u001b[0;34m(\u001b[0m\u001b[0mmessage\u001b[0m\u001b[0;34m,\u001b[0m \u001b[0mmessages\u001b[0m\u001b[0;34m.\u001b[0m\u001b[0mErrorResponse\u001b[0m\u001b[0;34m)\u001b[0m\u001b[0;34m:\u001b[0m\u001b[0;34m\u001b[0m\u001b[0;34m\u001b[0m\u001b[0m\n\u001b[1;32m    850\u001b[0m                 \u001b[0mself\u001b[0m\u001b[0;34m.\u001b[0m\u001b[0m_logger\u001b[0m\u001b[0;34m.\u001b[0m\u001b[0merror\u001b[0m\u001b[0;34m(\u001b[0m\u001b[0mmessage\u001b[0m\u001b[0;34m.\u001b[0m\u001b[0merror_message\u001b[0m\u001b[0;34m(\u001b[0m\u001b[0;34m)\u001b[0m\u001b[0;34m)\u001b[0m\u001b[0;34m\u001b[0m\u001b[0;34m\u001b[0m\u001b[0m\n\u001b[0;32m--> 851\u001b[0;31m                 \u001b[0;32mraise\u001b[0m \u001b[0merrors\u001b[0m\u001b[0;34m.\u001b[0m\u001b[0mConnectionError\u001b[0m\u001b[0;34m(\u001b[0m\u001b[0mmessage\u001b[0m\u001b[0;34m.\u001b[0m\u001b[0merror_message\u001b[0m\u001b[0;34m(\u001b[0m\u001b[0;34m)\u001b[0m\u001b[0;34m)\u001b[0m\u001b[0;34m\u001b[0m\u001b[0;34m\u001b[0m\u001b[0m\n\u001b[0m\u001b[1;32m    852\u001b[0m             \u001b[0;32melse\u001b[0m\u001b[0;34m:\u001b[0m\u001b[0;34m\u001b[0m\u001b[0;34m\u001b[0m\u001b[0m\n\u001b[1;32m    853\u001b[0m                 \u001b[0mmsg\u001b[0m \u001b[0;34m=\u001b[0m \u001b[0;34m\"Received unexpected startup message: {0}\"\u001b[0m\u001b[0;34m.\u001b[0m\u001b[0mformat\u001b[0m\u001b[0;34m(\u001b[0m\u001b[0mmessage\u001b[0m\u001b[0;34m)\u001b[0m\u001b[0;34m\u001b[0m\u001b[0;34m\u001b[0m\u001b[0m\n",
      "\u001b[0;31mConnectionError\u001b[0m: Severity: FATAL, Message: Invalid username or password, Sqlstate: 28000, Routine: auth_failed, File: /data/jenkins/workspace/RE-ReleaseBuilds/RE-Jackhammer/server/vertica/Basics/ClientAuthentication.cpp, Line: 1050, Error Code: 3781"
     ]
    }
   ],
   "source": [
    "# проверка подключения к вертике\n",
    "import vertica_python\n",
    "from getpass import getpass\n",
    "\n",
    "conn_info = {'host': '51.250.75.20',\n",
    "             'port': 5433,\n",
    "             'user': 'YAMARSELR2015YANDEXRU',\n",
    "             'password': 'z0shuiL3wY6yb8y',\n",
    "             'database': 'dwh',\n",
    "             'autocommit': True\n",
    "}\n",
    "\n",
    "with vertica_python.connect(**conn_info) as conn:\n",
    "    print('yo')"
   ]
  },
  {
   "cell_type": "code",
   "execution_count": 2,
   "id": "232cf11a",
   "metadata": {},
   "outputs": [
    {
     "ename": "SyntaxError",
     "evalue": "invalid syntax (2766649448.py, line 1)",
     "output_type": "error",
     "traceback": [
      "\u001b[0;36m  File \u001b[0;32m\"/tmp/ipykernel_13184/2766649448.py\"\u001b[0;36m, line \u001b[0;32m1\u001b[0m\n\u001b[0;31m    Локально запустить докер\u001b[0m\n\u001b[0m             ^\u001b[0m\n\u001b[0;31mSyntaxError\u001b[0m\u001b[0;31m:\u001b[0m invalid syntax\n"
     ]
    }
   ],
   "source": [
    "# Локально запустить докер\n",
    "sudo docker compose up -d --build\n",
    "\n",
    "# Подготовьте kubeconfig\n",
    "export KUBECONFIG=/home/user/.kube/config\n",
    "\n",
    "# Собрать образ -> запушить в реестр\n",
    "sudo docker build . -t cr.yandex/crp5rbbb4epngincu3l9/stg_service:v2023-04-24-r1\n",
    "sudo docker push cr.yandex/crp5rbbb4epngincu3l9/stg_service:v2023-04-24-r1\n",
    "# (дать права на пушинг)\n",
    "\n",
    "# Пропишите тег в values.yaml\n",
    "tag: \"v2023-04-24-r1\" \n",
    "    \n",
    "# Выполните релиз сервиса.\n",
    "helm upgrade --install stg-service app -n c08-marsel-kamilov\n",
    "\n",
    "# Проверьте с помощью kubectl, что сервис запущен и работает\n",
    "kubectl get deployment\n",
    "kubectl get pods\n",
    "kubectl describe pod\n",
    "kubectl describe deployment stg-service\n",
    "\n",
    "# если нужно удалить деплоймент\n",
    "helm uninstall stg-service\n",
    "\n",
    "# просмотра состояния релизов\n",
    "helm list"
   ]
  },
  {
   "cell_type": "code",
   "execution_count": 1,
   "id": "ed1af584",
   "metadata": {},
   "outputs": [],
   "source": [
    "# Postgresql\n",
    "# тест подключения\n",
    "curl -X POST https://postgres-check-service.sprint9.tgcloudenv.ru/init_schemas \\\n",
    "-H 'Content-Type: application/json; charset=utf-8' \\\n",
    "--data-binary @- << EOF\n",
    "{\n",
    "  \"student\": \"student\",\n",
    "  \"pg_settings\": {\n",
    "    \"host\": \"rc1b-c93bouyn77cmtsrj.mdb.yandexcloud.net\",\n",
    "    \"port\": 6432,\n",
    "    \"dbname\": \"sprint9dwh\",\n",
    "    \"username\": \"db_user\",\n",
    "    \"password\": \"Jees3Xei\"\n",
    "  }\n",
    "}\n",
    "EOF"
   ]
  },
  {
   "cell_type": "code",
   "execution_count": null,
   "id": "898aa499",
   "metadata": {},
   "outputs": [],
   "source": [
    "# Helm\n",
    "# установка\n",
    "curl -fsSL -o get_helm.sh https://raw.githubusercontent.com/helm/helm/main/scripts/get-helm-3\n",
    "chmod 700 get_helm.sh\n",
    "./get_helm.sh\n",
    "# запуск релиза\n",
    "helm upgrade --install sprint9-test /home/user/Downloads/Cources/YandexPracticum/DE/sprint9-demo-service/de_cloudtech_demo_service/app\n",
    "# установка приложения в кластер kubernetes. Теперь kubernetes может управлять эти приложением\n",
    "kubectl exec manifest-5d9779bc46-55nlv -- /src/scripts/dist/helm_test"
   ]
  },
  {
   "cell_type": "code",
   "execution_count": null,
   "id": "9d2e354d",
   "metadata": {},
   "outputs": [],
   "source": [
    "# Kubernetes, kubestl, manifests\n",
    "# запуск деплоймента (объектов)\n",
    "kubectl create -f deployment.yml\n",
    "# просмотра состояния объектов\n",
    "kubectl get deployment\n",
    "# просмотра состояния подов\n",
    "kubectl get pods\n",
    "# проверка, что пода запущена\n",
    "kubectl exec manifest-5d9779bc46-55nlv -- /src/scripts/dist/manifest_test"
   ]
  },
  {
   "cell_type": "code",
   "execution_count": 1,
   "id": "b5536388",
   "metadata": {
    "scrolled": true
   },
   "outputs": [
    {
     "ename": "NameError",
     "evalue": "name 'yc' is not defined",
     "output_type": "error",
     "traceback": [
      "\u001b[0;31m---------------------------------------------------------------------------\u001b[0m",
      "\u001b[0;31mNameError\u001b[0m                                 Traceback (most recent call last)",
      "\u001b[0;32m/tmp/ipykernel_92428/1429748904.py\u001b[0m in \u001b[0;36m<module>\u001b[0;34m\u001b[0m\n\u001b[0;32m----> 1\u001b[0;31m \u001b[0myc\u001b[0m \u001b[0;34m-\u001b[0m\u001b[0;34m-\u001b[0m\u001b[0mversion\u001b[0m\u001b[0;34m\u001b[0m\u001b[0;34m\u001b[0m\u001b[0m\n\u001b[0m",
      "\u001b[0;31mNameError\u001b[0m: name 'yc' is not defined"
     ]
    }
   ],
   "source": [
    "# Репозиторий для образов контейнеров\n",
    "yc --version\n",
    "yc init\n",
    "yc config list\n",
    "yc vpc network list\n",
    "yc container registry configure-docker\n",
    "sudo docker pull gcr.io/google_containers/pause\n",
    "sudo docker tag gcr.io/google_containers/pause cr.yandex/crp5rbbb4epngincu3l9/test:2023-04-20-v1\n",
    "sudo docker push cr.yandex/crp5rbbb4epngincu3l9/test:2023-04-20-v1"
   ]
  },
  {
   "cell_type": "code",
   "execution_count": null,
   "id": "3c51fb8c",
   "metadata": {},
   "outputs": [],
   "source": [
    "# отправка сообщения в кафку для теста\n",
    "!curl -X POST https://order-gen-service.sprint9.tgcloudenv.ru/test_kafka \\\n",
    "-H 'Content-Type: application/json; charset=utf-8' \\\n",
    "--data-binary @- << EOF\n",
    "{\n",
    "    \"student\": \"producer_consumer\",\n",
    "    \"kafka_connect\":{\n",
    "        \"host\": \"rc1a-hankn22hfdvk7pa3.mdb.yandexcloud.net\",\n",
    "        \"port\": 9091,\n",
    "        \"topic\": \"transaction-service-input\",\n",
    "        \"producer_name\": \"producer_consumer\",\n",
    "        \"producer_password\": \"Jees3Xei\"\n",
    "    }\n",
    "}\n",
    "EOF"
   ]
  },
  {
   "cell_type": "code",
   "execution_count": null,
   "id": "2acf98f4",
   "metadata": {},
   "outputs": [],
   "source": [
    "# Подключитесь через kcat к Kafka. \n",
    "# Чтобы убедиться, что параметры подключения прописаны корректно, \n",
    "# получите также список всех топиков, созданных в вашей инсталляции Kafka\n",
    "!sudo docker run \\\n",
    "    -it \\\n",
    "    --network=host \\\n",
    "    -v \"/usr/local/share/ca-certificates/Yandex/YandexInternalRootCA.crt:/data/CA.pem\" \\\n",
    "    edenhill/kcat:1.7.1 -b rc1a-hankn22hfdvk7pa3.mdb.yandexcloud.net:9091 \\\n",
    "    -X security.protocol=SASL_SSL \\\n",
    "    -X sasl.mechanisms=SCRAM-SHA-512 \\\n",
    "    -X sasl.username=producer_consumer \\\n",
    "    -X sasl.password=\"Jees3Xei\" \\\n",
    "    -X ssl.ca.location=/data/CA.pem \\\n",
    "    -L"
   ]
  },
  {
   "cell_type": "code",
   "execution_count": null,
   "id": "d0c00f07",
   "metadata": {},
   "outputs": [],
   "source": [
    "# kafkacat -C \\\n",
    "#          -b rc1a-hankn22hfdvk7pa3.mdb.yandexcloud.net:9091 \\\n",
    "#          -t \"1\" \\\n",
    "#          -X security.protocol=SASL_SSL \\\n",
    "#          -X sasl.mechanisms=SCRAM-SHA-512 \\\n",
    "#          -X sasl.username=\"producer_consumer\" \\\n",
    "#          -X sasl.password=\"Jees3Xei\" \\\n",
    "#          -X ssl.ca.location=\"/usr/local/share/ca-certificates/Yandex/YandexInternalRootCA.crt\" -Z -K:"
   ]
  },
  {
   "cell_type": "code",
   "execution_count": 37,
   "id": "1f6f3252",
   "metadata": {},
   "outputs": [],
   "source": [
    "# Kafka settings\n",
    "host_kafka=\"rc1a-hankn22hfdvk7pa3.mdb.yandexcloud.net\",\n",
    "port_kafka=9091,\n",
    "user_kafka=\"producer_consumer\",\n",
    "password_kafka=\"Jees3Xei\",\n",
    "ssl_kafka=True,\n",
    "ssl_ca_certs_kafka=\"/usr/local/share/ca-certificates/Yandex/YandexInternalRootCA.crt\""
   ]
  },
  {
   "cell_type": "code",
   "execution_count": 106,
   "id": "d49c162b",
   "metadata": {
    "scrolled": true
   },
   "outputs": [
    {
     "ename": "KeyError",
     "evalue": "False",
     "output_type": "error",
     "traceback": [
      "\u001b[0;31m---------------------------------------------------------------------------\u001b[0m",
      "\u001b[0;31mKeyError\u001b[0m                                  Traceback (most recent call last)",
      "\u001b[0;32m~/anaconda3/lib/python3.9/site-packages/pandas/core/indexes/base.py\u001b[0m in \u001b[0;36mget_loc\u001b[0;34m(self, key, method, tolerance)\u001b[0m\n\u001b[1;32m   3620\u001b[0m             \u001b[0;32mtry\u001b[0m\u001b[0;34m:\u001b[0m\u001b[0;34m\u001b[0m\u001b[0;34m\u001b[0m\u001b[0m\n\u001b[0;32m-> 3621\u001b[0;31m                 \u001b[0;32mreturn\u001b[0m \u001b[0mself\u001b[0m\u001b[0;34m.\u001b[0m\u001b[0m_engine\u001b[0m\u001b[0;34m.\u001b[0m\u001b[0mget_loc\u001b[0m\u001b[0;34m(\u001b[0m\u001b[0mcasted_key\u001b[0m\u001b[0;34m)\u001b[0m\u001b[0;34m\u001b[0m\u001b[0;34m\u001b[0m\u001b[0m\n\u001b[0m\u001b[1;32m   3622\u001b[0m             \u001b[0;32mexcept\u001b[0m \u001b[0mKeyError\u001b[0m \u001b[0;32mas\u001b[0m \u001b[0merr\u001b[0m\u001b[0;34m:\u001b[0m\u001b[0;34m\u001b[0m\u001b[0;34m\u001b[0m\u001b[0m\n",
      "\u001b[0;32m~/anaconda3/lib/python3.9/site-packages/pandas/_libs/index.pyx\u001b[0m in \u001b[0;36mpandas._libs.index.IndexEngine.get_loc\u001b[0;34m()\u001b[0m\n",
      "\u001b[0;32m~/anaconda3/lib/python3.9/site-packages/pandas/_libs/index.pyx\u001b[0m in \u001b[0;36mpandas._libs.index.IndexEngine.get_loc\u001b[0;34m()\u001b[0m\n",
      "\u001b[0;32mpandas/_libs/hashtable_class_helper.pxi\u001b[0m in \u001b[0;36mpandas._libs.hashtable.PyObjectHashTable.get_item\u001b[0;34m()\u001b[0m\n",
      "\u001b[0;32mpandas/_libs/hashtable_class_helper.pxi\u001b[0m in \u001b[0;36mpandas._libs.hashtable.PyObjectHashTable.get_item\u001b[0;34m()\u001b[0m\n",
      "\u001b[0;31mKeyError\u001b[0m: False",
      "\nThe above exception was the direct cause of the following exception:\n",
      "\u001b[0;31mKeyError\u001b[0m                                  Traceback (most recent call last)",
      "\u001b[0;32m/tmp/ipykernel_34693/1215358205.py\u001b[0m in \u001b[0;36m<module>\u001b[0;34m\u001b[0m\n\u001b[0;32m----> 1\u001b[0;31m \u001b[0mdf_new\u001b[0m \u001b[0;34m=\u001b[0m \u001b[0mpd\u001b[0m\u001b[0;34m.\u001b[0m\u001b[0mmerge\u001b[0m\u001b[0;34m(\u001b[0m\u001b[0mdf\u001b[0m\u001b[0;34m,\u001b[0m \u001b[0mdf2\u001b[0m\u001b[0;34m,\u001b[0m \u001b[0mon\u001b[0m\u001b[0;34m=\u001b[0m\u001b[0;34m[\u001b[0m\u001b[0;34m'date_list_transactions'\u001b[0m\u001b[0;34m]\u001b[0m\u001b[0;34m,\u001b[0m \u001b[0mhow\u001b[0m\u001b[0;34m=\u001b[0m\u001b[0;34m'right'\u001b[0m\u001b[0;34m,\u001b[0m \u001b[0mindicator\u001b[0m\u001b[0;34m=\u001b[0m\u001b[0;32mTrue\u001b[0m\u001b[0;34m)\u001b[0m\u001b[0;34m[\u001b[0m\u001b[0;34m'_merge'\u001b[0m \u001b[0;34m==\u001b[0m \u001b[0;34m'right_only'\u001b[0m\u001b[0;34m]\u001b[0m\u001b[0;34m\u001b[0m\u001b[0;34m\u001b[0m\u001b[0m\n\u001b[0m",
      "\u001b[0;32m~/anaconda3/lib/python3.9/site-packages/pandas/core/frame.py\u001b[0m in \u001b[0;36m__getitem__\u001b[0;34m(self, key)\u001b[0m\n\u001b[1;32m   3503\u001b[0m             \u001b[0;32mif\u001b[0m \u001b[0mself\u001b[0m\u001b[0;34m.\u001b[0m\u001b[0mcolumns\u001b[0m\u001b[0;34m.\u001b[0m\u001b[0mnlevels\u001b[0m \u001b[0;34m>\u001b[0m \u001b[0;36m1\u001b[0m\u001b[0;34m:\u001b[0m\u001b[0;34m\u001b[0m\u001b[0;34m\u001b[0m\u001b[0m\n\u001b[1;32m   3504\u001b[0m                 \u001b[0;32mreturn\u001b[0m \u001b[0mself\u001b[0m\u001b[0;34m.\u001b[0m\u001b[0m_getitem_multilevel\u001b[0m\u001b[0;34m(\u001b[0m\u001b[0mkey\u001b[0m\u001b[0;34m)\u001b[0m\u001b[0;34m\u001b[0m\u001b[0;34m\u001b[0m\u001b[0m\n\u001b[0;32m-> 3505\u001b[0;31m             \u001b[0mindexer\u001b[0m \u001b[0;34m=\u001b[0m \u001b[0mself\u001b[0m\u001b[0;34m.\u001b[0m\u001b[0mcolumns\u001b[0m\u001b[0;34m.\u001b[0m\u001b[0mget_loc\u001b[0m\u001b[0;34m(\u001b[0m\u001b[0mkey\u001b[0m\u001b[0;34m)\u001b[0m\u001b[0;34m\u001b[0m\u001b[0;34m\u001b[0m\u001b[0m\n\u001b[0m\u001b[1;32m   3506\u001b[0m             \u001b[0;32mif\u001b[0m \u001b[0mis_integer\u001b[0m\u001b[0;34m(\u001b[0m\u001b[0mindexer\u001b[0m\u001b[0;34m)\u001b[0m\u001b[0;34m:\u001b[0m\u001b[0;34m\u001b[0m\u001b[0;34m\u001b[0m\u001b[0m\n\u001b[1;32m   3507\u001b[0m                 \u001b[0mindexer\u001b[0m \u001b[0;34m=\u001b[0m \u001b[0;34m[\u001b[0m\u001b[0mindexer\u001b[0m\u001b[0;34m]\u001b[0m\u001b[0;34m\u001b[0m\u001b[0;34m\u001b[0m\u001b[0m\n",
      "\u001b[0;32m~/anaconda3/lib/python3.9/site-packages/pandas/core/indexes/base.py\u001b[0m in \u001b[0;36mget_loc\u001b[0;34m(self, key, method, tolerance)\u001b[0m\n\u001b[1;32m   3621\u001b[0m                 \u001b[0;32mreturn\u001b[0m \u001b[0mself\u001b[0m\u001b[0;34m.\u001b[0m\u001b[0m_engine\u001b[0m\u001b[0;34m.\u001b[0m\u001b[0mget_loc\u001b[0m\u001b[0;34m(\u001b[0m\u001b[0mcasted_key\u001b[0m\u001b[0;34m)\u001b[0m\u001b[0;34m\u001b[0m\u001b[0;34m\u001b[0m\u001b[0m\n\u001b[1;32m   3622\u001b[0m             \u001b[0;32mexcept\u001b[0m \u001b[0mKeyError\u001b[0m \u001b[0;32mas\u001b[0m \u001b[0merr\u001b[0m\u001b[0;34m:\u001b[0m\u001b[0;34m\u001b[0m\u001b[0;34m\u001b[0m\u001b[0m\n\u001b[0;32m-> 3623\u001b[0;31m                 \u001b[0;32mraise\u001b[0m \u001b[0mKeyError\u001b[0m\u001b[0;34m(\u001b[0m\u001b[0mkey\u001b[0m\u001b[0;34m)\u001b[0m \u001b[0;32mfrom\u001b[0m \u001b[0merr\u001b[0m\u001b[0;34m\u001b[0m\u001b[0;34m\u001b[0m\u001b[0m\n\u001b[0m\u001b[1;32m   3624\u001b[0m             \u001b[0;32mexcept\u001b[0m \u001b[0mTypeError\u001b[0m\u001b[0;34m:\u001b[0m\u001b[0;34m\u001b[0m\u001b[0;34m\u001b[0m\u001b[0m\n\u001b[1;32m   3625\u001b[0m                 \u001b[0;31m# If we have a listlike key, _check_indexing_error will raise\u001b[0m\u001b[0;34m\u001b[0m\u001b[0;34m\u001b[0m\u001b[0m\n",
      "\u001b[0;31mKeyError\u001b[0m: False"
     ]
    }
   ],
   "source": [
    "df_new = pd.merge(df, df2, on=['date_list_transactions'], how='right', indicator=True)"
   ]
  },
  {
   "cell_type": "code",
   "execution_count": 104,
   "id": "8a6c5c41",
   "metadata": {},
   "outputs": [
    {
     "data": {
      "text/html": [
       "<div>\n",
       "<style scoped>\n",
       "    .dataframe tbody tr th:only-of-type {\n",
       "        vertical-align: middle;\n",
       "    }\n",
       "\n",
       "    .dataframe tbody tr th {\n",
       "        vertical-align: top;\n",
       "    }\n",
       "\n",
       "    .dataframe thead th {\n",
       "        text-align: right;\n",
       "    }\n",
       "</style>\n",
       "<table border=\"1\" class=\"dataframe\">\n",
       "  <thead>\n",
       "    <tr style=\"text-align: right;\">\n",
       "      <th></th>\n",
       "      <th>date_list_transactions</th>\n",
       "    </tr>\n",
       "  </thead>\n",
       "  <tbody>\n",
       "    <tr>\n",
       "      <th>0</th>\n",
       "      <td>2022-12-16 17:33:26.466</td>\n",
       "    </tr>\n",
       "    <tr>\n",
       "      <th>1</th>\n",
       "      <td>2022-12-16 17:33:26.196</td>\n",
       "    </tr>\n",
       "    <tr>\n",
       "      <th>2</th>\n",
       "      <td>2022-12-16 17:33:34.783</td>\n",
       "    </tr>\n",
       "  </tbody>\n",
       "</table>\n",
       "</div>"
      ],
      "text/plain": [
       "   date_list_transactions\n",
       "0 2022-12-16 17:33:26.466\n",
       "1 2022-12-16 17:33:26.196\n",
       "2 2022-12-16 17:33:34.783"
      ]
     },
     "execution_count": 104,
     "metadata": {},
     "output_type": "execute_result"
    }
   ],
   "source": [
    "df2"
   ]
  },
  {
   "cell_type": "code",
   "execution_count": 103,
   "id": "71acfba6",
   "metadata": {},
   "outputs": [],
   "source": [
    "data = {\"date_list_transactions\": date_list_transactions[:3]}\n",
    "df2 = pd.DataFrame(data)"
   ]
  },
  {
   "cell_type": "code",
   "execution_count": 102,
   "id": "07b5f608",
   "metadata": {},
   "outputs": [
    {
     "data": {
      "text/html": [
       "<div>\n",
       "<style scoped>\n",
       "    .dataframe tbody tr th:only-of-type {\n",
       "        vertical-align: middle;\n",
       "    }\n",
       "\n",
       "    .dataframe tbody tr th {\n",
       "        vertical-align: top;\n",
       "    }\n",
       "\n",
       "    .dataframe thead th {\n",
       "        text-align: right;\n",
       "    }\n",
       "</style>\n",
       "<table border=\"1\" class=\"dataframe\">\n",
       "  <thead>\n",
       "    <tr style=\"text-align: right;\">\n",
       "      <th></th>\n",
       "      <th>date_list_transactions</th>\n",
       "    </tr>\n",
       "  </thead>\n",
       "  <tbody>\n",
       "    <tr>\n",
       "      <th>0</th>\n",
       "      <td>2022-12-16 17:33:26.466</td>\n",
       "    </tr>\n",
       "    <tr>\n",
       "      <th>1</th>\n",
       "      <td>2022-12-16 17:33:26.196</td>\n",
       "    </tr>\n",
       "  </tbody>\n",
       "</table>\n",
       "</div>"
      ],
      "text/plain": [
       "   date_list_transactions\n",
       "0 2022-12-16 17:33:26.466\n",
       "1 2022-12-16 17:33:26.196"
      ]
     },
     "execution_count": 102,
     "metadata": {},
     "output_type": "execute_result"
    }
   ],
   "source": [
    "df"
   ]
  },
  {
   "cell_type": "code",
   "execution_count": 101,
   "id": "67012bf4",
   "metadata": {},
   "outputs": [],
   "source": [
    "data = {\"date_list_transactions\": date_list_transactions[:2]}\n",
    "data\n",
    "df = pd.DataFrame(data)"
   ]
  },
  {
   "cell_type": "code",
   "execution_count": 100,
   "id": "dba70fe4",
   "metadata": {},
   "outputs": [
    {
     "data": {
      "text/plain": [
       "['transactions_batch_9.csv',\n",
       " 'transactions_batch_7.csv',\n",
       " 'transactions_batch_10.csv',\n",
       " 'transactions_batch_6.csv',\n",
       " 'transactions_batch_8.csv',\n",
       " 'transactions_batch_1.csv',\n",
       " 'transactions_batch_3.csv',\n",
       " 'transactions_batch_4.csv',\n",
       " 'transactions_batch_2.csv',\n",
       " 'transactions_batch_5.csv']"
      ]
     },
     "execution_count": 100,
     "metadata": {},
     "output_type": "execute_result"
    }
   ],
   "source": [
    "import numpy as np\n",
    "import datetime \n",
    "\n",
    "date_list_transactions = [datetime.datetime(2022, 12, 16, 17, 33, 26, 466000), \n",
    "         datetime.datetime(2022, 12, 16, 17, 33, 26, 196000), \n",
    "         datetime.datetime(2022, 12, 16, 17, 33, 34, 783000), \n",
    "         datetime.datetime(2022, 12, 16, 17, 33, 34, 756000), \n",
    "         datetime.datetime(2022, 12, 16, 17, 33, 34, 772000), \n",
    "         datetime.datetime(2022, 12, 16, 17, 33, 34, 789000), \n",
    "         datetime.datetime(2022, 12, 16, 17, 33, 26, 227000), \n",
    "         datetime.datetime(2022, 12, 16, 17, 33, 26, 183000), \n",
    "         datetime.datetime(2022, 12, 16, 17, 33, 26, 307000), \n",
    "         datetime.datetime(2022, 12, 16, 17, 33, 26, 169000)]\n",
    "\n",
    "csv_list_transactions = ['transactions_batch_1.csv', \n",
    "       'transactions_batch_10.csv', \n",
    "       'transactions_batch_2.csv', \n",
    "       'transactions_batch_3.csv', \n",
    "       'transactions_batch_4.csv', \n",
    "       'transactions_batch_5.csv', \n",
    "       'transactions_batch_6.csv', \n",
    "       'transactions_batch_7.csv', \n",
    "       'transactions_batch_8.csv', \n",
    "       'transactions_batch_9.csv']\n",
    "\n",
    "ids_sorted = [ids[j] for _,j in enumerate(np.argsort(dates))]\n",
    "ids_sorted"
   ]
  },
  {
   "cell_type": "code",
   "execution_count": 78,
   "id": "46b0d33a",
   "metadata": {},
   "outputs": [
    {
     "data": {
      "text/plain": [
       "['transactions_batch_1.csv']"
      ]
     },
     "execution_count": 78,
     "metadata": {},
     "output_type": "execute_result"
    }
   ],
   "source": [
    "batch_file_names"
   ]
  },
  {
   "cell_type": "code",
   "execution_count": 79,
   "id": "086018b0",
   "metadata": {},
   "outputs": [
    {
     "data": {
      "text/plain": [
       "['0']"
      ]
     },
     "execution_count": 79,
     "metadata": {},
     "output_type": "execute_result"
    }
   ],
   "source": [
    "batch_file_change_date"
   ]
  },
  {
   "cell_type": "code",
   "execution_count": 77,
   "id": "68468630",
   "metadata": {},
   "outputs": [],
   "source": [
    "batch_file_names = df_comp[df_comp['_merge'] == 'right_only']['batch_file_name'].to_list()\n",
    "batch_file_change_date = df_comp[df_comp['_merge'] == 'right_only']['batch_file_change_date'].to_list()"
   ]
  },
  {
   "cell_type": "code",
   "execution_count": 74,
   "id": "ac36a62e",
   "metadata": {},
   "outputs": [
    {
     "data": {
      "text/html": [
       "<div>\n",
       "<style scoped>\n",
       "    .dataframe tbody tr th:only-of-type {\n",
       "        vertical-align: middle;\n",
       "    }\n",
       "\n",
       "    .dataframe tbody tr th {\n",
       "        vertical-align: top;\n",
       "    }\n",
       "\n",
       "    .dataframe thead th {\n",
       "        text-align: right;\n",
       "    }\n",
       "</style>\n",
       "<table border=\"1\" class=\"dataframe\">\n",
       "  <thead>\n",
       "    <tr style=\"text-align: right;\">\n",
       "      <th></th>\n",
       "      <th>batch_file_name</th>\n",
       "      <th>batch_file_change_date</th>\n",
       "      <th>_merge</th>\n",
       "    </tr>\n",
       "  </thead>\n",
       "  <tbody>\n",
       "    <tr>\n",
       "      <th>0</th>\n",
       "      <td>transactions_batch_1.csv</td>\n",
       "      <td>0</td>\n",
       "      <td>right_only</td>\n",
       "    </tr>\n",
       "    <tr>\n",
       "      <th>1</th>\n",
       "      <td>transactions_batch_10.csv</td>\n",
       "      <td>2022-12-16 17:33:26.196000</td>\n",
       "      <td>both</td>\n",
       "    </tr>\n",
       "    <tr>\n",
       "      <th>2</th>\n",
       "      <td>transactions_batch_2.csv</td>\n",
       "      <td>2022-12-16 17:33:34.783000</td>\n",
       "      <td>both</td>\n",
       "    </tr>\n",
       "    <tr>\n",
       "      <th>3</th>\n",
       "      <td>transactions_batch_3.csv</td>\n",
       "      <td>2022-12-16 17:33:34.756000</td>\n",
       "      <td>both</td>\n",
       "    </tr>\n",
       "    <tr>\n",
       "      <th>4</th>\n",
       "      <td>transactions_batch_4.csv</td>\n",
       "      <td>2022-12-16 17:33:34.772000</td>\n",
       "      <td>both</td>\n",
       "    </tr>\n",
       "    <tr>\n",
       "      <th>5</th>\n",
       "      <td>transactions_batch_5.csv</td>\n",
       "      <td>2022-12-16 17:33:34.789000</td>\n",
       "      <td>both</td>\n",
       "    </tr>\n",
       "    <tr>\n",
       "      <th>6</th>\n",
       "      <td>transactions_batch_6.csv</td>\n",
       "      <td>2022-12-16 17:33:26.227000</td>\n",
       "      <td>both</td>\n",
       "    </tr>\n",
       "    <tr>\n",
       "      <th>7</th>\n",
       "      <td>transactions_batch_7.csv</td>\n",
       "      <td>2022-12-16 17:33:26.183000</td>\n",
       "      <td>both</td>\n",
       "    </tr>\n",
       "    <tr>\n",
       "      <th>8</th>\n",
       "      <td>transactions_batch_8.csv</td>\n",
       "      <td>2022-12-16 17:33:26.307000</td>\n",
       "      <td>both</td>\n",
       "    </tr>\n",
       "    <tr>\n",
       "      <th>9</th>\n",
       "      <td>transactions_batch_9.csv</td>\n",
       "      <td>2022-12-16 17:33:26.169000</td>\n",
       "      <td>both</td>\n",
       "    </tr>\n",
       "  </tbody>\n",
       "</table>\n",
       "</div>"
      ],
      "text/plain": [
       "             batch_file_name      batch_file_change_date      _merge\n",
       "0   transactions_batch_1.csv                           0  right_only\n",
       "1  transactions_batch_10.csv  2022-12-16 17:33:26.196000        both\n",
       "2   transactions_batch_2.csv  2022-12-16 17:33:34.783000        both\n",
       "3   transactions_batch_3.csv  2022-12-16 17:33:34.756000        both\n",
       "4   transactions_batch_4.csv  2022-12-16 17:33:34.772000        both\n",
       "5   transactions_batch_5.csv  2022-12-16 17:33:34.789000        both\n",
       "6   transactions_batch_6.csv  2022-12-16 17:33:26.227000        both\n",
       "7   transactions_batch_7.csv  2022-12-16 17:33:26.183000        both\n",
       "8   transactions_batch_8.csv  2022-12-16 17:33:26.307000        both\n",
       "9   transactions_batch_9.csv  2022-12-16 17:33:26.169000        both"
      ]
     },
     "execution_count": 74,
     "metadata": {},
     "output_type": "execute_result"
    }
   ],
   "source": [
    "df_comp = pd.merge(df[['batch_file_name','batch_file_change_date']], df_inc[['batch_file_name','batch_file_change_date']], on=['batch_file_name','batch_file_change_date'], how='right', indicator=True)\n",
    "df_comp"
   ]
  },
  {
   "cell_type": "code",
   "execution_count": 59,
   "id": "8470383b",
   "metadata": {},
   "outputs": [
    {
     "data": {
      "text/html": [
       "<div>\n",
       "<style scoped>\n",
       "    .dataframe tbody tr th:only-of-type {\n",
       "        vertical-align: middle;\n",
       "    }\n",
       "\n",
       "    .dataframe tbody tr th {\n",
       "        vertical-align: top;\n",
       "    }\n",
       "\n",
       "    .dataframe thead th {\n",
       "        text-align: right;\n",
       "    }\n",
       "</style>\n",
       "<table border=\"1\" class=\"dataframe\">\n",
       "  <thead>\n",
       "    <tr style=\"text-align: right;\">\n",
       "      <th></th>\n",
       "      <th>id</th>\n",
       "      <th>date_reading</th>\n",
       "      <th>batch_file_name</th>\n",
       "      <th>batch_file_change_date</th>\n",
       "    </tr>\n",
       "  </thead>\n",
       "  <tbody>\n",
       "    <tr>\n",
       "      <th>0</th>\n",
       "      <td>0</td>\n",
       "      <td>2023-05-06 18:03:04.153815</td>\n",
       "      <td>transactions_batch_1.csv</td>\n",
       "      <td>0</td>\n",
       "    </tr>\n",
       "    <tr>\n",
       "      <th>1</th>\n",
       "      <td>1</td>\n",
       "      <td>2023-05-06 18:03:04.153832</td>\n",
       "      <td>transactions_batch_10.csv</td>\n",
       "      <td>2022-12-16 17:33:26.196000</td>\n",
       "    </tr>\n",
       "    <tr>\n",
       "      <th>2</th>\n",
       "      <td>2</td>\n",
       "      <td>2023-05-06 18:03:04.153838</td>\n",
       "      <td>transactions_batch_2.csv</td>\n",
       "      <td>2022-12-16 17:33:34.783000</td>\n",
       "    </tr>\n",
       "    <tr>\n",
       "      <th>3</th>\n",
       "      <td>3</td>\n",
       "      <td>2023-05-06 18:03:04.153842</td>\n",
       "      <td>transactions_batch_3.csv</td>\n",
       "      <td>2022-12-16 17:33:34.756000</td>\n",
       "    </tr>\n",
       "    <tr>\n",
       "      <th>4</th>\n",
       "      <td>4</td>\n",
       "      <td>2023-05-06 18:03:04.153846</td>\n",
       "      <td>transactions_batch_4.csv</td>\n",
       "      <td>2022-12-16 17:33:34.772000</td>\n",
       "    </tr>\n",
       "    <tr>\n",
       "      <th>5</th>\n",
       "      <td>5</td>\n",
       "      <td>2023-05-06 18:03:04.153850</td>\n",
       "      <td>transactions_batch_5.csv</td>\n",
       "      <td>2022-12-16 17:33:34.789000</td>\n",
       "    </tr>\n",
       "    <tr>\n",
       "      <th>6</th>\n",
       "      <td>6</td>\n",
       "      <td>2023-05-06 18:03:04.153855</td>\n",
       "      <td>transactions_batch_6.csv</td>\n",
       "      <td>2022-12-16 17:33:26.227000</td>\n",
       "    </tr>\n",
       "    <tr>\n",
       "      <th>7</th>\n",
       "      <td>7</td>\n",
       "      <td>2023-05-06 18:03:04.153859</td>\n",
       "      <td>transactions_batch_7.csv</td>\n",
       "      <td>2022-12-16 17:33:26.183000</td>\n",
       "    </tr>\n",
       "    <tr>\n",
       "      <th>8</th>\n",
       "      <td>8</td>\n",
       "      <td>2023-05-06 18:03:04.153863</td>\n",
       "      <td>transactions_batch_8.csv</td>\n",
       "      <td>2022-12-16 17:33:26.307000</td>\n",
       "    </tr>\n",
       "    <tr>\n",
       "      <th>9</th>\n",
       "      <td>9</td>\n",
       "      <td>2023-05-06 18:03:04.153867</td>\n",
       "      <td>transactions_batch_9.csv</td>\n",
       "      <td>2022-12-16 17:33:26.169000</td>\n",
       "    </tr>\n",
       "  </tbody>\n",
       "</table>\n",
       "</div>"
      ],
      "text/plain": [
       "   id                date_reading            batch_file_name  \\\n",
       "0   0  2023-05-06 18:03:04.153815   transactions_batch_1.csv   \n",
       "1   1  2023-05-06 18:03:04.153832  transactions_batch_10.csv   \n",
       "2   2  2023-05-06 18:03:04.153838   transactions_batch_2.csv   \n",
       "3   3  2023-05-06 18:03:04.153842   transactions_batch_3.csv   \n",
       "4   4  2023-05-06 18:03:04.153846   transactions_batch_4.csv   \n",
       "5   5  2023-05-06 18:03:04.153850   transactions_batch_5.csv   \n",
       "6   6  2023-05-06 18:03:04.153855   transactions_batch_6.csv   \n",
       "7   7  2023-05-06 18:03:04.153859   transactions_batch_7.csv   \n",
       "8   8  2023-05-06 18:03:04.153863   transactions_batch_8.csv   \n",
       "9   9  2023-05-06 18:03:04.153867   transactions_batch_9.csv   \n",
       "\n",
       "       batch_file_change_date  \n",
       "0                           0  \n",
       "1  2022-12-16 17:33:26.196000  \n",
       "2  2022-12-16 17:33:34.783000  \n",
       "3  2022-12-16 17:33:34.756000  \n",
       "4  2022-12-16 17:33:34.772000  \n",
       "5  2022-12-16 17:33:34.789000  \n",
       "6  2022-12-16 17:33:26.227000  \n",
       "7  2022-12-16 17:33:26.183000  \n",
       "8  2022-12-16 17:33:26.307000  \n",
       "9  2022-12-16 17:33:26.169000  "
      ]
     },
     "execution_count": 59,
     "metadata": {},
     "output_type": "execute_result"
    }
   ],
   "source": [
    "df_inc"
   ]
  },
  {
   "cell_type": "code",
   "execution_count": 58,
   "id": "2d194c84",
   "metadata": {},
   "outputs": [
    {
     "name": "stderr",
     "output_type": "stream",
     "text": [
      "/tmp/ipykernel_34693/2265244066.py:1: SettingWithCopyWarning: \n",
      "A value is trying to be set on a copy of a slice from a DataFrame\n",
      "\n",
      "See the caveats in the documentation: https://pandas.pydata.org/pandas-docs/stable/user_guide/indexing.html#returning-a-view-versus-a-copy\n",
      "  df_inc['batch_file_change_date'].iloc[0] = '0'\n"
     ]
    }
   ],
   "source": [
    "df_inc['batch_file_change_date'].iloc[0] = '0'"
   ]
  },
  {
   "cell_type": "code",
   "execution_count": 46,
   "id": "fe853381",
   "metadata": {},
   "outputs": [
    {
     "data": {
      "text/html": [
       "<div>\n",
       "<style scoped>\n",
       "    .dataframe tbody tr th:only-of-type {\n",
       "        vertical-align: middle;\n",
       "    }\n",
       "\n",
       "    .dataframe tbody tr th {\n",
       "        vertical-align: top;\n",
       "    }\n",
       "\n",
       "    .dataframe thead th {\n",
       "        text-align: right;\n",
       "    }\n",
       "</style>\n",
       "<table border=\"1\" class=\"dataframe\">\n",
       "  <thead>\n",
       "    <tr style=\"text-align: right;\">\n",
       "      <th></th>\n",
       "      <th>id</th>\n",
       "      <th>date_reading</th>\n",
       "      <th>batch_file_name</th>\n",
       "      <th>batch_file_change_date</th>\n",
       "    </tr>\n",
       "  </thead>\n",
       "  <tbody>\n",
       "    <tr>\n",
       "      <th>0</th>\n",
       "      <td>0</td>\n",
       "      <td>2023-05-06 18:03:04.153815</td>\n",
       "      <td>transactions_batch_1.csv</td>\n",
       "      <td>2022-12-16 17:33:26.466000</td>\n",
       "    </tr>\n",
       "    <tr>\n",
       "      <th>1</th>\n",
       "      <td>1</td>\n",
       "      <td>2023-05-06 18:03:04.153832</td>\n",
       "      <td>transactions_batch_10.csv</td>\n",
       "      <td>2022-12-16 17:33:26.196000</td>\n",
       "    </tr>\n",
       "    <tr>\n",
       "      <th>2</th>\n",
       "      <td>2</td>\n",
       "      <td>2023-05-06 18:03:04.153838</td>\n",
       "      <td>transactions_batch_2.csv</td>\n",
       "      <td>2022-12-16 17:33:34.783000</td>\n",
       "    </tr>\n",
       "    <tr>\n",
       "      <th>3</th>\n",
       "      <td>3</td>\n",
       "      <td>2023-05-06 18:03:04.153842</td>\n",
       "      <td>transactions_batch_3.csv</td>\n",
       "      <td>2022-12-16 17:33:34.756000</td>\n",
       "    </tr>\n",
       "    <tr>\n",
       "      <th>4</th>\n",
       "      <td>4</td>\n",
       "      <td>2023-05-06 18:03:04.153846</td>\n",
       "      <td>transactions_batch_4.csv</td>\n",
       "      <td>2022-12-16 17:33:34.772000</td>\n",
       "    </tr>\n",
       "    <tr>\n",
       "      <th>5</th>\n",
       "      <td>5</td>\n",
       "      <td>2023-05-06 18:03:04.153850</td>\n",
       "      <td>transactions_batch_5.csv</td>\n",
       "      <td>2022-12-16 17:33:34.789000</td>\n",
       "    </tr>\n",
       "    <tr>\n",
       "      <th>6</th>\n",
       "      <td>6</td>\n",
       "      <td>2023-05-06 18:03:04.153855</td>\n",
       "      <td>transactions_batch_6.csv</td>\n",
       "      <td>2022-12-16 17:33:26.227000</td>\n",
       "    </tr>\n",
       "    <tr>\n",
       "      <th>7</th>\n",
       "      <td>7</td>\n",
       "      <td>2023-05-06 18:03:04.153859</td>\n",
       "      <td>transactions_batch_7.csv</td>\n",
       "      <td>2022-12-16 17:33:26.183000</td>\n",
       "    </tr>\n",
       "    <tr>\n",
       "      <th>8</th>\n",
       "      <td>8</td>\n",
       "      <td>2023-05-06 18:03:04.153863</td>\n",
       "      <td>transactions_batch_8.csv</td>\n",
       "      <td>2022-12-16 17:33:26.307000</td>\n",
       "    </tr>\n",
       "    <tr>\n",
       "      <th>9</th>\n",
       "      <td>9</td>\n",
       "      <td>2023-05-06 18:03:04.153867</td>\n",
       "      <td>transactions_batch_9.csv</td>\n",
       "      <td>2022-12-16 17:33:26.169000</td>\n",
       "    </tr>\n",
       "  </tbody>\n",
       "</table>\n",
       "</div>"
      ],
      "text/plain": [
       "   id                date_reading            batch_file_name  \\\n",
       "0   0  2023-05-06 18:03:04.153815   transactions_batch_1.csv   \n",
       "1   1  2023-05-06 18:03:04.153832  transactions_batch_10.csv   \n",
       "2   2  2023-05-06 18:03:04.153838   transactions_batch_2.csv   \n",
       "3   3  2023-05-06 18:03:04.153842   transactions_batch_3.csv   \n",
       "4   4  2023-05-06 18:03:04.153846   transactions_batch_4.csv   \n",
       "5   5  2023-05-06 18:03:04.153850   transactions_batch_5.csv   \n",
       "6   6  2023-05-06 18:03:04.153855   transactions_batch_6.csv   \n",
       "7   7  2023-05-06 18:03:04.153859   transactions_batch_7.csv   \n",
       "8   8  2023-05-06 18:03:04.153863   transactions_batch_8.csv   \n",
       "9   9  2023-05-06 18:03:04.153867   transactions_batch_9.csv   \n",
       "\n",
       "       batch_file_change_date  \n",
       "0  2022-12-16 17:33:26.466000  \n",
       "1  2022-12-16 17:33:26.196000  \n",
       "2  2022-12-16 17:33:34.783000  \n",
       "3  2022-12-16 17:33:34.756000  \n",
       "4  2022-12-16 17:33:34.772000  \n",
       "5  2022-12-16 17:33:34.789000  \n",
       "6  2022-12-16 17:33:26.227000  \n",
       "7  2022-12-16 17:33:26.183000  \n",
       "8  2022-12-16 17:33:26.307000  \n",
       "9  2022-12-16 17:33:26.169000  "
      ]
     },
     "execution_count": 46,
     "metadata": {},
     "output_type": "execute_result"
    }
   ],
   "source": [
    "df_inc = df.copy()\n",
    "df_inc"
   ]
  },
  {
   "cell_type": "code",
   "execution_count": 99,
   "id": "a390b831",
   "metadata": {},
   "outputs": [
    {
     "data": {
      "text/plain": [
       "True"
      ]
     },
     "execution_count": 99,
     "metadata": {},
     "output_type": "execute_result"
    }
   ],
   "source": [
    "df = pd.DataFrame(columns=['id','date_reading','batch_file_name','batch_file_change_date'])\n",
    "df.empty"
   ]
  },
  {
   "cell_type": "code",
   "execution_count": 89,
   "id": "27f31213",
   "metadata": {},
   "outputs": [
    {
     "data": {
      "text/html": [
       "<div>\n",
       "<style scoped>\n",
       "    .dataframe tbody tr th:only-of-type {\n",
       "        vertical-align: middle;\n",
       "    }\n",
       "\n",
       "    .dataframe tbody tr th {\n",
       "        vertical-align: top;\n",
       "    }\n",
       "\n",
       "    .dataframe thead th {\n",
       "        text-align: right;\n",
       "    }\n",
       "</style>\n",
       "<table border=\"1\" class=\"dataframe\">\n",
       "  <thead>\n",
       "    <tr style=\"text-align: right;\">\n",
       "      <th></th>\n",
       "      <th>id</th>\n",
       "      <th>date_reading</th>\n",
       "      <th>batch_file_name</th>\n",
       "      <th>batch_file_change_date</th>\n",
       "    </tr>\n",
       "  </thead>\n",
       "  <tbody>\n",
       "    <tr>\n",
       "      <th>0</th>\n",
       "      <td>0</td>\n",
       "      <td>2023-05-06 18:03:04.153815</td>\n",
       "      <td>transactions_batch_1.csv</td>\n",
       "      <td>2022-12-16 17:33:26.466000</td>\n",
       "    </tr>\n",
       "  </tbody>\n",
       "</table>\n",
       "</div>"
      ],
      "text/plain": [
       "   id                date_reading           batch_file_name  \\\n",
       "0   0  2023-05-06 18:03:04.153815  transactions_batch_1.csv   \n",
       "\n",
       "       batch_file_change_date  \n",
       "0  2022-12-16 17:33:26.466000  "
      ]
     },
     "execution_count": 89,
     "metadata": {},
     "output_type": "execute_result"
    }
   ],
   "source": [
    "df1 = df[df[\"batch_file_name\"]==\"transactions_batch_1.csv\"]\n",
    "df1"
   ]
  },
  {
   "cell_type": "code",
   "execution_count": 93,
   "id": "617295ec",
   "metadata": {},
   "outputs": [
    {
     "data": {
      "text/html": [
       "<div>\n",
       "<style scoped>\n",
       "    .dataframe tbody tr th:only-of-type {\n",
       "        vertical-align: middle;\n",
       "    }\n",
       "\n",
       "    .dataframe tbody tr th {\n",
       "        vertical-align: top;\n",
       "    }\n",
       "\n",
       "    .dataframe thead th {\n",
       "        text-align: right;\n",
       "    }\n",
       "</style>\n",
       "<table border=\"1\" class=\"dataframe\">\n",
       "  <thead>\n",
       "    <tr style=\"text-align: right;\">\n",
       "      <th></th>\n",
       "      <th>id</th>\n",
       "      <th>date_reading</th>\n",
       "      <th>batch_file_name</th>\n",
       "      <th>batch_file_change_date</th>\n",
       "    </tr>\n",
       "  </thead>\n",
       "  <tbody>\n",
       "    <tr>\n",
       "      <th>0</th>\n",
       "      <td>0</td>\n",
       "      <td>2023-05-06 18:03:04.153815</td>\n",
       "      <td>transactions_batch_1.csv</td>\n",
       "      <td>2022-12-16 17:33:26.466000</td>\n",
       "    </tr>\n",
       "    <tr>\n",
       "      <th>1</th>\n",
       "      <td>1</td>\n",
       "      <td>2023-05-06 18:03:04.153832</td>\n",
       "      <td>transactions_batch_10.csv</td>\n",
       "      <td>2022-12-16 17:33:26.196000</td>\n",
       "    </tr>\n",
       "    <tr>\n",
       "      <th>2</th>\n",
       "      <td>2</td>\n",
       "      <td>2023-05-06 18:03:04.153838</td>\n",
       "      <td>transactions_batch_2.csv</td>\n",
       "      <td>2022-12-16 17:33:34.783000</td>\n",
       "    </tr>\n",
       "    <tr>\n",
       "      <th>3</th>\n",
       "      <td>3</td>\n",
       "      <td>2023-05-06 18:03:04.153842</td>\n",
       "      <td>transactions_batch_3.csv</td>\n",
       "      <td>2022-12-16 17:33:34.756000</td>\n",
       "    </tr>\n",
       "    <tr>\n",
       "      <th>4</th>\n",
       "      <td>4</td>\n",
       "      <td>2023-05-06 18:03:04.153846</td>\n",
       "      <td>transactions_batch_4.csv</td>\n",
       "      <td>2022-12-16 17:33:34.772000</td>\n",
       "    </tr>\n",
       "    <tr>\n",
       "      <th>5</th>\n",
       "      <td>5</td>\n",
       "      <td>2023-05-06 18:03:04.153850</td>\n",
       "      <td>transactions_batch_5.csv</td>\n",
       "      <td>2022-12-16 17:33:34.789000</td>\n",
       "    </tr>\n",
       "    <tr>\n",
       "      <th>6</th>\n",
       "      <td>6</td>\n",
       "      <td>2023-05-06 18:03:04.153855</td>\n",
       "      <td>transactions_batch_6.csv</td>\n",
       "      <td>2022-12-16 17:33:26.227000</td>\n",
       "    </tr>\n",
       "    <tr>\n",
       "      <th>7</th>\n",
       "      <td>7</td>\n",
       "      <td>2023-05-06 18:03:04.153859</td>\n",
       "      <td>transactions_batch_7.csv</td>\n",
       "      <td>2022-12-16 17:33:26.183000</td>\n",
       "    </tr>\n",
       "    <tr>\n",
       "      <th>8</th>\n",
       "      <td>8</td>\n",
       "      <td>2023-05-06 18:03:04.153863</td>\n",
       "      <td>transactions_batch_8.csv</td>\n",
       "      <td>2022-12-16 17:33:26.307000</td>\n",
       "    </tr>\n",
       "    <tr>\n",
       "      <th>9</th>\n",
       "      <td>9</td>\n",
       "      <td>2023-05-06 18:03:04.153867</td>\n",
       "      <td>transactions_batch_9.csv</td>\n",
       "      <td>2022-12-16 17:33:26.169000</td>\n",
       "    </tr>\n",
       "  </tbody>\n",
       "</table>\n",
       "</div>"
      ],
      "text/plain": [
       "   id                date_reading            batch_file_name  \\\n",
       "0   0  2023-05-06 18:03:04.153815   transactions_batch_1.csv   \n",
       "1   1  2023-05-06 18:03:04.153832  transactions_batch_10.csv   \n",
       "2   2  2023-05-06 18:03:04.153838   transactions_batch_2.csv   \n",
       "3   3  2023-05-06 18:03:04.153842   transactions_batch_3.csv   \n",
       "4   4  2023-05-06 18:03:04.153846   transactions_batch_4.csv   \n",
       "5   5  2023-05-06 18:03:04.153850   transactions_batch_5.csv   \n",
       "6   6  2023-05-06 18:03:04.153855   transactions_batch_6.csv   \n",
       "7   7  2023-05-06 18:03:04.153859   transactions_batch_7.csv   \n",
       "8   8  2023-05-06 18:03:04.153863   transactions_batch_8.csv   \n",
       "9   9  2023-05-06 18:03:04.153867   transactions_batch_9.csv   \n",
       "\n",
       "       batch_file_change_date  \n",
       "0  2022-12-16 17:33:26.466000  \n",
       "1  2022-12-16 17:33:26.196000  \n",
       "2  2022-12-16 17:33:34.783000  \n",
       "3  2022-12-16 17:33:34.756000  \n",
       "4  2022-12-16 17:33:34.772000  \n",
       "5  2022-12-16 17:33:34.789000  \n",
       "6  2022-12-16 17:33:26.227000  \n",
       "7  2022-12-16 17:33:26.183000  \n",
       "8  2022-12-16 17:33:26.307000  \n",
       "9  2022-12-16 17:33:26.169000  "
      ]
     },
     "execution_count": 93,
     "metadata": {},
     "output_type": "execute_result"
    }
   ],
   "source": [
    "df"
   ]
  },
  {
   "cell_type": "code",
   "execution_count": 41,
   "id": "b7e56b80",
   "metadata": {},
   "outputs": [],
   "source": [
    "from datetime import datetime\n",
    "import pandas as pd\n",
    "data = {\n",
    "    \"id\": list(range(next_id, next_id + len(csv_list_transactions))),\n",
    "    \"date_reading\": [\n",
    "        str(datetime.today()) for _ in range(len(csv_list_transactions))\n",
    "    ],\n",
    "    \"batch_file_name\": csv_list_transactions,\n",
    "    \"batch_file_change_date\": [str(i) for i in date_list_transactions],\n",
    "}\n",
    "\n",
    "df = pd.DataFrame(data)"
   ]
  },
  {
   "cell_type": "code",
   "execution_count": 35,
   "id": "b067542c",
   "metadata": {},
   "outputs": [
    {
     "data": {
      "text/plain": [
       "[0, 1, 2, 3, 4, 5, 6, 7, 8, 9]"
      ]
     },
     "execution_count": 35,
     "metadata": {},
     "output_type": "execute_result"
    }
   ],
   "source": [
    "next_id = 0\n",
    "list(range(next_id, next_id + 10))"
   ]
  }
 ],
 "metadata": {
  "kernelspec": {
   "display_name": "Python 3 (ipykernel)",
   "language": "python",
   "name": "python3"
  },
  "language_info": {
   "codemirror_mode": {
    "name": "ipython",
    "version": 3
   },
   "file_extension": ".py",
   "mimetype": "text/x-python",
   "name": "python",
   "nbconvert_exporter": "python",
   "pygments_lexer": "ipython3",
   "version": "3.9.7"
  }
 },
 "nbformat": 4,
 "nbformat_minor": 5
}
